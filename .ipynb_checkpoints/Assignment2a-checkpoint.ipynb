{
 "cells": [
  {
   "cell_type": "code",
   "execution_count": 8,
   "id": "ce9fcd49",
   "metadata": {},
   "outputs": [],
   "source": [
    "import rospy\n",
    "import ipywidgets as widgets\n",
    "import actionlib\n",
    "import actionlib.msg\n",
    "import assignment_2_2023.msg\n",
    "import matplotlib.pyplot as plt \n",
    "import numpy as np\n",
    "\n",
    "\n",
    "from assignment_2_2023.srv import LastTarget, LastTargetRequest\n",
    "from nav_msgs.msg import Odometry\n",
    "from ipywidgets import Layout\n",
    "from matplotlib.animation import FuncAnimation\n",
    "\n",
    "\n",
    "last_positions_x=[]\n",
    "last_positions_y=[]\n",
    "\n",
    "setted_target_x=[]\n",
    "setted_target_y=[]\n"
   ]
  },
  {
   "cell_type": "code",
   "execution_count": 9,
   "id": "3db86ff9",
   "metadata": {},
   "outputs": [],
   "source": [
    "def on_Send_Goal_Button_Clicked(b):\n",
    "    client.wait_for_server()\n",
    "    goal = assignment_2_2023.msg.PlanningGoal()\n",
    "    goal.target_pose.pose.position.x = des_x.value\n",
    "    goal.target_pose.pose.position.y = des_y.value\n",
    "    setted_target_x.append(des_x.value)\n",
    "    setted_target_y.append(des_y.value)\n",
    "    #print(goal)\n",
    "    client.send_goal(goal)\n",
    "    "
   ]
  },
  {
   "cell_type": "code",
   "execution_count": 10,
   "id": "1e4ab686",
   "metadata": {},
   "outputs": [],
   "source": [
    "def on_Cancel_Button_Clicked(b):\n",
    "    last_positions_x.append(des_x.value)\n",
    "    last_positions_y.append(des_y.value)\n",
    "    \n",
    "    client.cancel_goal()\n",
    "\n"
   ]
  },
  {
   "cell_type": "code",
   "execution_count": 11,
   "id": "a18107ce",
   "metadata": {
    "scrolled": true
   },
   "outputs": [
    {
     "data": {
      "application/vnd.jupyter.widget-view+json": {
       "model_id": "db57411262bc4b50b6c95bfabbc6e9e6",
       "version_major": 2,
       "version_minor": 0
      },
      "text/plain": [
       "BoundedFloatText(value=0.0, description='x position', max=9.0, min=-9.0)"
      ]
     },
     "metadata": {},
     "output_type": "display_data"
    },
    {
     "data": {
      "application/vnd.jupyter.widget-view+json": {
       "model_id": "b78ec0ecd5e8465fbc7d58b5c9d7b0c8",
       "version_major": 2,
       "version_minor": 0
      },
      "text/plain": [
       "BoundedFloatText(value=0.0, description='y position', max=9.0, min=-9.0)"
      ]
     },
     "metadata": {},
     "output_type": "display_data"
    },
    {
     "data": {
      "application/vnd.jupyter.widget-view+json": {
       "model_id": "119b1254878f49d384f4f6fdeeca0ce7",
       "version_major": 2,
       "version_minor": 0
      },
      "text/plain": [
       "Button(description='Send Goal !', style=ButtonStyle())"
      ]
     },
     "metadata": {},
     "output_type": "display_data"
    },
    {
     "data": {
      "application/vnd.jupyter.widget-view+json": {
       "model_id": "022ebcad74204e5fb396654308476ba1",
       "version_major": 2,
       "version_minor": 0
      },
      "text/plain": [
       "Button(description='Cancel Goal !', style=ButtonStyle())"
      ]
     },
     "metadata": {},
     "output_type": "display_data"
    }
   ],
   "source": [
    "\n",
    "des_x=widgets.BoundedFloatText(min=-9, max=9.0,description='x position')\n",
    "display(des_x)\n",
    "\n",
    "des_y=widgets.BoundedFloatText(min=-9, max=9.0, description='y position')\n",
    "display(des_y)\n",
    "rospy.init_node('action_client')\n",
    "client = actionlib.SimpleActionClient('/reaching_goal', assignment_2_2023.msg.PlanningAction)\n",
    "\n",
    "sendGoal = widgets.Button(description=\"Send Goal !\") \n",
    "cancelGoal=widgets.Button(description=\"Cancel Goal !\")\n",
    "sendGoal.on_click(on_Send_Goal_Button_Clicked)\n",
    "cancelGoal.on_click(on_Cancel_Button_Clicked)\n",
    "display(sendGoal)\n",
    "display(cancelGoal)\n",
    "\n",
    "\n",
    "\n"
   ]
  },
  {
   "cell_type": "code",
   "execution_count": 12,
   "id": "f4a1075f",
   "metadata": {},
   "outputs": [],
   "source": [
    "def clbk_odom(msg):\n",
    "# Callback function that process incoming Odometry messages,\n",
    "# extract informations about: position x, position y, linear velocity x and\n",
    "# angular velocity z; Save these informations in a custom message Info()\n",
    "# and pubblish that informations on /robot_pos_vel topic.\n",
    "\n",
    "# Initialize a new message\n",
    "# The struct of Info() is (x,y,vel_x,vel_z)\n",
    "    global pos_x,pos_y,vel_x,vel_z\n",
    "\n",
    "    pos_x = msg.pose.pose.position.x\n",
    "    pos_y = msg.pose.pose.position.y\n",
    "    vel_x = msg.twist.twist.linear.x \t\t# linear velocity along x axis\n",
    "    vel_z = msg.twist.twist.angular.z\t\t# angular velocity around z axis\n",
    "   \n",
    "    \n",
    "\n",
    "    \n",
    "    \n"
   ]
  },
  {
   "cell_type": "code",
   "execution_count": 13,
   "id": "1ff7062e",
   "metadata": {},
   "outputs": [
    {
     "name": "stdout",
     "output_type": "stream",
     "text": [
      "pos_x:-0.044624190327859546 pos_y:1.001254708098236 vel_x:-0.0007864823553058837\n"
     ]
    },
    {
     "data": {
      "application/vnd.jupyter.widget-view+json": {
       "model_id": "e9e63b9097114a908df5702971891749",
       "version_major": 2,
       "version_minor": 0
      },
      "text/plain": [
       "Text(value='-0.044624190327859546', description='current position x', style=DescriptionStyle(description_width…"
      ]
     },
     "metadata": {},
     "output_type": "display_data"
    },
    {
     "data": {
      "application/vnd.jupyter.widget-view+json": {
       "model_id": "8f614a97d0334ae3898431600b5ec558",
       "version_major": 2,
       "version_minor": 0
      },
      "text/plain": [
       "Text(value='1.001254708098236', description='current posizion y', style=DescriptionStyle(description_width='in…"
      ]
     },
     "metadata": {},
     "output_type": "display_data"
    },
    {
     "data": {
      "application/vnd.jupyter.widget-view+json": {
       "model_id": "227a4ba6a8454bf58101856f12b5cf2b",
       "version_major": 2,
       "version_minor": 0
      },
      "text/plain": [
       "Text(value='-0.0007864823553058837', description='current position x', style=DescriptionStyle(description_widt…"
      ]
     },
     "metadata": {},
     "output_type": "display_data"
    },
    {
     "data": {
      "application/vnd.jupyter.widget-view+json": {
       "model_id": "0f0c1ab3bd0e47a78d3b20959027c6ec",
       "version_major": 2,
       "version_minor": 0
      },
      "text/plain": [
       "Text(value='2.909559044861792e-05', description='current posizion y', style=DescriptionStyle(description_width…"
      ]
     },
     "metadata": {},
     "output_type": "display_data"
    },
    {
     "data": {
      "application/vnd.jupyter.widget-view+json": {
       "model_id": "7ca3ff75459240b2856fc61b278f440f",
       "version_major": 2,
       "version_minor": 0
      },
      "text/plain": [
       "Text(value='[]', description='last position x')"
      ]
     },
     "metadata": {},
     "output_type": "display_data"
    },
    {
     "data": {
      "application/vnd.jupyter.widget-view+json": {
       "model_id": "30b5f4a11bcf463daf9fc4633b0efd9b",
       "version_major": 2,
       "version_minor": 0
      },
      "text/plain": [
       "Text(value='[]', description='last posizion y')"
      ]
     },
     "metadata": {},
     "output_type": "display_data"
    }
   ],
   "source": [
    "\n",
    "sub = rospy.Subscriber('/odom', Odometry, clbk_odom)\n",
    "print(f'pos_x:{pos_x} pos_y:{pos_y} vel_x:{vel_x}')\n",
    "\n",
    "style = {'description_width': 'initial'}\n",
    "current_x=widgets.Text(\n",
    "              value=str(pos_x),\n",
    "              description=\"current position x\",\n",
    "              style=style\n",
    "         )\n",
    "current_y=widgets.Text(\n",
    "                    value=str(pos_y),\n",
    "                    description=\"current posizion y\",\n",
    "                    style=style\n",
    "        ) \n",
    "current_velx=widgets.Text(\n",
    "                  value=str(vel_x),\n",
    "                  description=\"current position x\",\n",
    "                  style=style    \n",
    "        )\n",
    "current_velz=widgets.Text(\n",
    "                    value=str(vel_z),\n",
    "                    description=\"current posizion y\",\n",
    "                    style=style\n",
    "        ) \n",
    "\n",
    "display(current_x)\n",
    "display(current_y)\n",
    "display(current_velx)\n",
    "display(current_velz)\n",
    "\n",
    "\n",
    "#last_positions_x\n",
    "x=widgets.Text(\n",
    "    value=str(setted_target_x),\n",
    "    description=\"last position x\"\n",
    "    )\n",
    "y=widgets.Text(\n",
    "    value=str(last_positions_y),\n",
    "    description=\"last posizion y\"\n",
    "    )\n",
    "display(x)\n",
    "display(y)\n",
    "\n"
   ]
  },
  {
   "cell_type": "code",
   "execution_count": 14,
   "id": "547e2fb8",
   "metadata": {},
   "outputs": [
    {
     "data": {
      "text/plain": [
       "[]"
      ]
     },
     "execution_count": 14,
     "metadata": {},
     "output_type": "execute_result"
    }
   ],
   "source": [
    "setted_target_x\n",
    "setted_target_y"
   ]
  },
  {
   "cell_type": "code",
   "execution_count": 18,
   "id": "906a86b4",
   "metadata": {},
   "outputs": [],
   "source": [
    "class Visualizer:\n",
    "    def __init__(self):\n",
    "        self.fig,self.ax=plt.subplots()\n",
    "        self.ln=plt.plot([],[],'ro')\n",
    "        self.x_data,self.y_data=[],[]\n",
    "    \n",
    "    def plot_init(self):\n",
    "        self.ax.set_xlim(-9,9)\n",
    "        self.ax.set_ylim(-9,9)\n",
    "        return self.ln,\n",
    "    \n",
    "    def clbk_odom(self,msg):\n",
    "        #global pos_x,pos_y,vel_x,vel_z\n",
    "        \n",
    "        self.x_data.append(msg.pose.pose.position.x)\n",
    "        self.y_data.append(msg.pose.pose.position.y)\n",
    "    \n",
    "    #vel_x = msg.twist.twist.linear.x \t\t# linear velocity along x axis\n",
    "    #vel_z = msg.twist.twist.angular.z\t\t# angular velocity around z axis\n",
    "   \n",
    "    def update_plot(self,frame):\n",
    "        self.ln.set_data(self.x_data,self.y_data)\n",
    "        return self.ln,\n",
    "\n",
    "    \n",
    "            "
   ]
  },
  {
   "cell_type": "code",
   "execution_count": 20,
   "id": "673f4a0a",
   "metadata": {},
   "outputs": [
    {
     "data": {
      "image/png": "[encoded data removed]",
      "text/plain": [
       "<Figure size 432x288 with 1 Axes>"
      ]
     },
     "metadata": {
      "needs_background": "light"
     },
     "output_type": "display_data"
    },
    {
     "name": "stderr",
     "output_type": "stream",
     "text": [
      "[WARN] [1713029576.924447, 1544.259000]: Inbound TCP/IP connection failed: connection from sender terminated before handshake header received. 0 bytes were received. Please check sender for additional details.\n"
     ]
    }
   ],
   "source": [
    "rospy.init_node('Visualizer')\n",
    "vis=Visualizer()\n",
    "sub = rospy.Subscriber('/odom', Odometry, vis.clbk_odom)\n",
    "ani=FuncAnimation(vis.fig,vis.update_plot,init_func=vis.plot_init)\n",
    "plt.show(block=True)"
   ]
  },
  {
   "cell_type": "code",
   "execution_count": null,
   "id": "dff76737",
   "metadata": {},
   "outputs": [],
   "source": []
  }
 ],
 "metadata": {
  "kernelspec": {
   "display_name": "Python 3 (ipykernel)",
   "language": "python",
   "name": "python3"
  },
  "language_info": {
   "codemirror_mode": {
    "name": "ipython",
    "version": 3
   },
   "file_extension": ".py",
   "mimetype": "text/x-python",
   "name": "python",
   "nbconvert_exporter": "python",
   "pygments_lexer": "ipython3",
   "version": "3.8.5"
  }
 },
 "nbformat": 4,
 "nbformat_minor": 5
}
