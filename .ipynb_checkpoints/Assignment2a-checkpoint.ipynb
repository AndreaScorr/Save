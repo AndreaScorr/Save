{
 "cells": [
  {
   "cell_type": "code",
   "execution_count": 1,
   "id": "ce9fcd49",
   "metadata": {},
   "outputs": [],
   "source": [
    "\n",
    "%matplotlib widget\n",
    "import rospy\n",
    "import ipywidgets as widgets\n",
    "import actionlib\n",
    "import actionlib.msg\n",
    "import assignment_2_2023.msg\n",
    "import matplotlib.pyplot as plt\n",
    "#%matplotlib inline\n",
    "import numpy as np\n",
    "\n",
    "\n",
    "from assignment_2_2023.srv import LastTarget, LastTargetRequest\n",
    "from nav_msgs.msg import Odometry\n",
    "from ipywidgets import Layout\n",
    "from matplotlib.animation import FuncAnimation\n",
    "\n",
    "\n",
    "last_positions_x=[]\n",
    "last_positions_y=[]\n",
    "\n",
    "setted_target_x=[]\n",
    "setted_target_y=[]\n",
    "\n",
    "\n",
    "canceled_target_x=[]\n",
    "canceled_target_y=[]\n",
    "\n",
    "\n",
    "arrived_x=[]\n",
    "arrived_y=[]"
   ]
  },
  {
   "cell_type": "code",
   "execution_count": 2,
   "id": "3db86ff9",
   "metadata": {},
   "outputs": [],
   "source": [
    "def feedback_clbk(feedback):\n",
    "    global success\n",
    "    if feedback.stat==\"Target reached!\":\n",
    "        \n",
    "        arrived_x.append(des_x.value)\n",
    "        arrived_y.append(des_y.value)\n",
    "    #print(feedback.stat)\n",
    "\n",
    "def on_Send_Goal_Button_Clicked(b):\n",
    "    client.wait_for_server()\n",
    "    goal = assignment_2_2023.msg.PlanningGoal()\n",
    "    goal.target_pose.pose.position.x = des_x.value\n",
    "    goal.target_pose.pose.position.y = des_y.value\n",
    "    setted_target_x.append(des_x.value)\n",
    "    setted_target_y.append(des_y.value)\n",
    "    #print(goal)\n",
    "    client.send_goal(goal,feedback_cb=feedback_clbk)\n",
    "    "
   ]
  },
  {
   "cell_type": "code",
   "execution_count": 3,
   "id": "1e4ab686",
   "metadata": {},
   "outputs": [],
   "source": [
    "def on_Cancel_Button_Clicked(b):\n",
    "    last_positions_x.append(des_x.value)\n",
    "    last_positions_y.append(des_y.value)\n",
    "    canceled_target_x.append(des_x.value)\n",
    "    canceled_target_y.append(des_y.value)\n",
    "    client.cancel_goal()\n",
    "\n"
   ]
  },
  {
   "cell_type": "code",
   "execution_count": 4,
   "id": "a18107ce",
   "metadata": {
    "scrolled": false
   },
   "outputs": [
    {
     "data": {
      "text/plain": [
       "'\\ndes_x=widgets.BoundedFloatText(min=-9, max=9.0,description=\\'x position\\')\\ndisplay(des_x)\\n\\ndes_y=widgets.BoundedFloatText(min=-9, max=9.0, description=\\'y position\\')\\ndisplay(des_y)\\nrospy.init_node(\\'action_client\\')\\nclient = actionlib.SimpleActionClient(\\'/reaching_goal\\', assignment_2_2023.msg.PlanningAction)\\n\\nsendGoal = widgets.Button(description=\"Send Goal !\") \\ncancelGoal=widgets.Button(description=\"Cancel Goal !\")\\nsendGoal.on_click(on_Send_Goal_Button_Clicked)\\ncancelGoal.on_click(on_Cancel_Button_Clicked)\\ndisplay(sendGoal)\\ndisplay(cancelGoal)\\n\\n'"
      ]
     },
     "execution_count": 4,
     "metadata": {},
     "output_type": "execute_result"
    }
   ],
   "source": [
    "'''\n",
    "des_x=widgets.BoundedFloatText(min=-9, max=9.0,description='x position')\n",
    "display(des_x)\n",
    "\n",
    "des_y=widgets.BoundedFloatText(min=-9, max=9.0, description='y position')\n",
    "display(des_y)\n",
    "rospy.init_node('action_client')\n",
    "client = actionlib.SimpleActionClient('/reaching_goal', assignment_2_2023.msg.PlanningAction)\n",
    "\n",
    "sendGoal = widgets.Button(description=\"Send Goal !\") \n",
    "cancelGoal=widgets.Button(description=\"Cancel Goal !\")\n",
    "sendGoal.on_click(on_Send_Goal_Button_Clicked)\n",
    "cancelGoal.on_click(on_Cancel_Button_Clicked)\n",
    "display(sendGoal)\n",
    "display(cancelGoal)\n",
    "\n",
    "'''\n",
    "\n"
   ]
  },
  {
   "cell_type": "code",
   "execution_count": null,
   "id": "675eff5c",
   "metadata": {},
   "outputs": [],
   "source": []
  },
  {
   "cell_type": "code",
   "execution_count": 5,
   "id": "f4a1075f",
   "metadata": {},
   "outputs": [],
   "source": [
    "def clbk_odom(msg):\n",
    "# Callback function that process incoming Odometry messages,\n",
    "# extract informations about: position x, position y, linear velocity x and\n",
    "# angular velocity z; Save these informations in a custom message Info()\n",
    "# and pubblish that informations on /robot_pos_vel topic.\n",
    "\n",
    "# Initialize a new message\n",
    "# The struct of Info() is (x,y,vel_x,vel_z)\n",
    "    global pos_x,pos_y,vel_x,vel_z\n",
    "\n",
    "    pos_x = msg.pose.pose.position.x\n",
    "    pos_y = msg.pose.pose.position.y\n",
    "    vel_x = msg.twist.twist.linear.x \t\t# linear velocity along x axis\n",
    "    vel_z = msg.twist.twist.angular.z\t\t# angular velocity around z axis\n",
    "   \n",
    "    \n",
    "\n",
    "    \n",
    "    \n"
   ]
  },
  {
   "cell_type": "code",
   "execution_count": 8,
   "id": "906a86b4",
   "metadata": {},
   "outputs": [],
   "source": [
    "\n",
    "class Visualizer:\n",
    "    def __init__(self):\n",
    "        self.fig,self.ax=plt.subplots(1,2)\n",
    "        #self.fig2,self.ax2=plt.subplots()\n",
    "\n",
    "        self.ln=self.ax[0].plot([],[],'ro')\n",
    "        self.x_data, self.y_data = [] , []\n",
    "        self.ax[0].set_aspect('equal')\n",
    "        self.ax[1].set_aspect('auto')\n",
    "\n",
    "        self.bar_val= [0,0,0]\n",
    "        self.bar = self.ax[1].bar(['Send', 'reached' ,'Cancel'], self.bar_val, color=['blue','green','red'])  # Create the bar plot\n",
    "\n",
    "    \n",
    "    def plot_init(self):\n",
    "        self.ax[0].set_xlim(-10,10)\n",
    "        self.ax[0].set_ylim(-10,10)\n",
    "       \n",
    "        return self.ln\n",
    "    \n",
    "    #def clback_odom(self,msg):\n",
    "        #global pos_x,pos_y,vel_x,vel_z\n",
    "     #   self.x_data.append(msg.pose.pose.position.x)\n",
    "     #  self.y_data.append(msg.pose.pose.position.y)\n",
    "    \n",
    "    #vel_x = msg.twist.twist.linear.x \t\t# linear velocity along x axis\n",
    "    #vel_z = msg.twist.twist.angular.z\t\t# angular velocity around z axis\n",
    "   \n",
    "    def update_plot(self,frame):\n",
    "        #plt.plot(self.x_data,self.y_data)\n",
    "        self.x_data.append(pos_x)\n",
    "        self.y_data.append(pos_y)\n",
    "        setted,canceled=0,0\n",
    "        if(len(setted_target_x)!=0): \n",
    "            self.ax[0].plot(setted_target_x[-1], setted_target_y[-1], marker = 'o', color = 'blue' )\n",
    "        if(len(canceled_target_y)!=0):\n",
    "            self.ax[0].plot(canceled_target_x[-1], canceled_target_y[-1], marker = 'X', color = 'red' )\n",
    "        if(len(canceled_target_y)!=0):\n",
    "            self.ax[0].plot(arrived_x[-1], arrived_y[-1], marker = '+', color = 'green' )\n",
    "        \n",
    "        \n",
    "        self.ax[0].plot(self.x_data,self.y_data)\n",
    "        self.bar_val=[len(setted_target_x),len(canceled_target_x)]\n",
    "        \n",
    "        new_heights=[len(setted_target_x),len(arrived_x),len(canceled_target_y)]\n",
    "        #self.ax2=plt.bar(x,y)\n",
    "        \n",
    "        for i, b in enumerate(self.bar):  # Update the bar plot\n",
    "            b.set_height(new_heights[i])\n",
    "            self.ax[1].set_ylim(0,max(self.bar_val) + 1 )\n",
    "        return self.ln,self.bar\n",
    "\n",
    "    \n",
    "            "
   ]
  },
  {
   "cell_type": "code",
   "execution_count": 9,
   "id": "673f4a0a",
   "metadata": {
    "scrolled": true
   },
   "outputs": [
    {
     "data": {
      "application/vnd.jupyter.widget-view+json": {
       "model_id": "6115758e8f4246cfaebb63b3a36255d7",
       "version_major": 2,
       "version_minor": 0
      },
      "text/plain": [
       "BoundedFloatText(value=0.0, description='x position', max=9.0, min=-9.0)"
      ]
     },
     "metadata": {},
     "output_type": "display_data"
    },
    {
     "data": {
      "application/vnd.jupyter.widget-view+json": {
       "model_id": "2848bc48ea8b481b981387b07179c121",
       "version_major": 2,
       "version_minor": 0
      },
      "text/plain": [
       "BoundedFloatText(value=0.0, description='y position', max=9.0, min=-9.0)"
      ]
     },
     "metadata": {},
     "output_type": "display_data"
    },
    {
     "data": {
      "application/vnd.jupyter.widget-view+json": {
       "model_id": "82fc8800f50b4752ba9fbf4559cca015",
       "version_major": 2,
       "version_minor": 0
      },
      "text/plain": [
       "Button(description='Send Goal !', style=ButtonStyle())"
      ]
     },
     "metadata": {},
     "output_type": "display_data"
    },
    {
     "data": {
      "application/vnd.jupyter.widget-view+json": {
       "model_id": "f8c7ece4e3bb4cc599ce60de61ae49dd",
       "version_major": 2,
       "version_minor": 0
      },
      "text/plain": [
       "Button(description='Cancel Goal !', style=ButtonStyle())"
      ]
     },
     "metadata": {},
     "output_type": "display_data"
    },
    {
     "data": {
      "application/vnd.jupyter.widget-view+json": {
       "model_id": "7ab59cdd4f8240e5ab7e82719ef913c4",
       "version_major": 2,
       "version_minor": 0
      },
      "text/plain": [
       "Canvas(toolbar=Toolbar(toolitems=[('Home', 'Reset original view', 'home', 'home'), ('Back', 'Back to previous …"
      ]
     },
     "metadata": {},
     "output_type": "display_data"
    }
   ],
   "source": [
    "#rospy.init_node('Visualizer')\n",
    "\n",
    "des_x=widgets.BoundedFloatText(min=-9, max=9.0,description='x position')\n",
    "display(des_x)\n",
    "\n",
    "des_y=widgets.BoundedFloatText(min=-9, max=9.0, description='y position')\n",
    "display(des_y)\n",
    "rospy.init_node('action_client')\n",
    "client = actionlib.SimpleActionClient('/reaching_goal', assignment_2_2023.msg.PlanningAction)\n",
    "\n",
    "sendGoal = widgets.Button(description=\"Send Goal !\") \n",
    "cancelGoal=widgets.Button(description=\"Cancel Goal !\")\n",
    "sendGoal.on_click(on_Send_Goal_Button_Clicked)\n",
    "cancelGoal.on_click(on_Cancel_Button_Clicked)\n",
    "display(sendGoal)\n",
    "display(cancelGoal)\n",
    "\n",
    "vis=Visualizer()\n",
    "sub = rospy.Subscriber('/odom', Odometry, clbk_odom)\n",
    "ani=FuncAnimation(vis.fig,vis.update_plot,init_func=vis.plot_init,interval=50)\n",
    "\n",
    "\n",
    "\n",
    "\n",
    "\n",
    "plt.show(block=True)"
   ]
  },
  {
   "cell_type": "code",
   "execution_count": null,
   "id": "dff76737",
   "metadata": {},
   "outputs": [],
   "source": []
  },
  {
   "cell_type": "code",
   "execution_count": null,
   "id": "3ad6206a",
   "metadata": {},
   "outputs": [],
   "source": [
    "success\n"
   ]
  },
  {
   "cell_type": "code",
   "execution_count": null,
   "id": "6574ac7b",
   "metadata": {},
   "outputs": [],
   "source": []
  }
 ],
 "metadata": {
  "kernelspec": {
   "display_name": "Python 3 (ipykernel)",
   "language": "python",
   "name": "python3"
  },
  "language_info": {
   "codemirror_mode": {
    "name": "ipython",
    "version": 3
   },
   "file_extension": ".py",
   "mimetype": "text/x-python",
   "name": "python",
   "nbconvert_exporter": "python",
   "pygments_lexer": "ipython3",
   "version": "3.8.5"
  }
 },
 "nbformat": 4,
 "nbformat_minor": 5
}
