{
 "cells": [
  {
   "cell_type": "markdown",
   "id": "5dcbb961",
   "metadata": {},
   "source": [
    "Esercizio 1"
   ]
  },
  {
   "cell_type": "code",
   "execution_count": 23,
   "id": "aea29b2d",
   "metadata": {},
   "outputs": [],
   "source": [
    "import rospy\n",
    "from turtlesim.msg import Pose\n",
    "from geometry_msgs.msg import Twist\n",
    "import time\n",
    "import numpy as np\n",
    "import matplotlib as mpl\n",
    "import matplotlib.pyplot as plt\n",
    "x_plot = []\n",
    "y_plot = []\n",
    "pub = rospy.Publisher(\"turtle1/cmd_vel\", Twist, queue_size=1)"
   ]
  },
  {
   "cell_type": "code",
   "execution_count": 24,
   "id": "6c0875d0",
   "metadata": {},
   "outputs": [],
   "source": [
    "def plot(x_plot,y_plot):\n",
    "    np_x_plot = np.array(x_plot)\n",
    "    np_y_plot = np.array(y_plot)\n",
    "    ax.plot(np_x_plot,np_y_plot)"
   ]
  },
  {
   "cell_type": "code",
   "execution_count": 25,
   "id": "6c7e75ac",
   "metadata": {},
   "outputs": [],
   "source": [
    "def turtleCallback(msg):\n",
    "    global x_plot, y_plot\n",
    "    x_plot.append(msg.x)\n",
    "    y_plot.append(msg.y)\n",
    "    vel = Twist()\n",
    "    if (msg.x > 9.0):\n",
    "        vel.linear.x = 1.0\n",
    "        vel.angular.z = 1.0\n",
    "    elif (msg.x < 1.5):\n",
    "        vel.linear.x = 1.0\n",
    "        vel.angular.z = -1.0\n",
    "    else:\n",
    "        vel.linear.x = 1.0\n",
    "        vel.angular.z = 0.0\n",
    "    pub.publish(vel)\n",
    "    plot(x_plot,y_plot)\n"
   ]
  },
  {
   "cell_type": "code",
   "execution_count": 26,
   "id": "3884fe01",
   "metadata": {},
   "outputs": [],
   "source": [
    "%matplotlib widget\n",
    "rospy.init_node(\"controller\")\n",
    "sub = rospy.Subscriber(\"turtle1/pose\", Pose,turtleCallback)\n",
    "time.sleep(10)\n",
    "vel = Twist()\n",
    "vel.linear.x = 0.0\n",
    "vel.angular.z = 0.0\n",
    "pub.publish(vel)"
   ]
  },
  {
   "cell_type": "code",
   "execution_count": 27,
   "id": "6fd1ffc3",
   "metadata": {},
   "outputs": [
    {
     "data": {
      "application/vnd.jupyter.widget-view+json": {
       "model_id": "bd73fa779add41a1beeff26d9fdd3dbf",
       "version_major": 2,
       "version_minor": 0
      },
      "text/plain": [
       "Canvas(toolbar=Toolbar(toolitems=[('Home', 'Reset original view', 'home', 'home'), ('Back', 'Back to previous …"
      ]
     },
     "metadata": {},
     "output_type": "display_data"
    },
    {
     "data": {
      "text/plain": [
       "Text(0, 0.5, 'y')"
      ]
     },
     "execution_count": 27,
     "metadata": {},
     "output_type": "execute_result"
    }
   ],
   "source": [
    "np_x_plot = np.array(x_plot)\n",
    "np_y_plot = np.array(y_plot)\n",
    "fig = plt.figure()\n",
    "ax = fig.add_axes([0,0,1,1])\n",
    "ax.set_xlim(0, 12)\n",
    "ax.set_ylim(0, 12)\n",
    "ax.plot(np_x_plot,np_y_plot)\n",
    "ax.set_title(\"my_turtle\")\n",
    "ax.set_xlabel(\"x\")\n",
    "ax.set_ylabel(\"y\")"
   ]
  },
  {
   "cell_type": "code",
   "execution_count": 4,
   "id": "aea7f8bf",
   "metadata": {},
   "outputs": [],
   "source": [
    "import jupyros\n",
    "import rospy\n",
    "from assignment_2_2023.msg import PlanningAction\n",
    "\n",
    "rospy.init_node('action_node')\n",
    "\n"
   ]
  },
  {
   "cell_type": "code",
   "execution_count": 5,
   "id": "826041cd",
   "metadata": {
    "scrolled": true
   },
   "outputs": [
    {
     "ename": "AttributeError",
     "evalue": "module 'jupyros' has no attribute 'action_client'",
     "output_type": "error",
     "traceback": [
      "\u001b[0;31m---------------------------------------------------------------------------\u001b[0m",
      "\u001b[0;31mAttributeError\u001b[0m                            Traceback (most recent call last)",
      "\u001b[0;32m/tmp/ipykernel_2835/2831952807.py\u001b[0m in \u001b[0;36m<module>\u001b[0;34m\u001b[0m\n\u001b[0;32m----> 1\u001b[0;31m \u001b[0mjupyros\u001b[0m\u001b[0;34m.\u001b[0m\u001b[0maction_client\u001b[0m\u001b[0;34m(\u001b[0m\u001b[0;34m'reachingGoal'\u001b[0m\u001b[0;34m,\u001b[0m \u001b[0mPlanningGoal\u001b[0m\u001b[0;34m,\u001b[0m \u001b[0mcallbacks\u001b[0m\u001b[0;34m=\u001b[0m\u001b[0;34m{\u001b[0m\u001b[0;34m}\u001b[0m\u001b[0;34m)\u001b[0m\u001b[0;34m\u001b[0m\u001b[0;34m\u001b[0m\u001b[0m\n\u001b[0m",
      "\u001b[0;31mAttributeError\u001b[0m: module 'jupyros' has no attribute 'action_client'"
     ]
    }
   ],
   "source": [
    "jupyros.action_client('reaching_goal', PlanningGoal, callbacks={})"
   ]
  },
  {
   "cell_type": "code",
   "execution_count": null,
   "id": "43ae55f6",
   "metadata": {},
   "outputs": [],
   "source": []
  }
 ],
 "metadata": {
  "kernelspec": {
   "display_name": "Python 3 (ipykernel)",
   "language": "python",
   "name": "python3"
  },
  "language_info": {
   "codemirror_mode": {
    "name": "ipython",
    "version": 3
   },
   "file_extension": ".py",
   "mimetype": "text/x-python",
   "name": "python",
   "nbconvert_exporter": "python",
   "pygments_lexer": "ipython3",
   "version": "3.8.5"
  }
 },
 "nbformat": 4,
 "nbformat_minor": 5
}
