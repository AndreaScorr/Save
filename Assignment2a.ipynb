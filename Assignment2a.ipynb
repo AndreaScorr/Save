{
 "cells": [
  {
   "cell_type": "code",
   "execution_count": 11,
   "id": "ce9fcd49",
   "metadata": {},
   "outputs": [
    {
     "data": {
      "application/vnd.jupyter.widget-view+json": {
       "model_id": "6c6220ad0c314d9ca2c1f3d2c7d69ecb",
       "version_major": 2,
       "version_minor": 0
      },
      "text/plain": [
       "Canvas(toolbar=Toolbar(toolitems=[('Home', 'Reset original view', 'home', 'home'), ('Back', 'Back to previous …"
      ]
     },
     "metadata": {},
     "output_type": "display_data"
    }
   ],
   "source": [
    "\n",
    "%matplotlib widget\n",
    "import rospy\n",
    "import ipywidgets as widgets\n",
    "import actionlib\n",
    "import actionlib.msg\n",
    "import assignment_2_2023.msg\n",
    "import matplotlib.pyplot as plt\n",
    "#%matplotlib inline\n",
    "import numpy as np\n",
    "\n",
    "\n",
    "from assignment_2_2023.srv import LastTarget, LastTargetRequest\n",
    "from nav_msgs.msg import Odometry\n",
    "from ipywidgets import Layout\n",
    "from matplotlib.animation import FuncAnimation\n",
    "\n",
    "\n",
    "last_positions_x=[]\n",
    "last_positions_y=[]\n",
    "\n",
    "setted_target_x=[]\n",
    "setted_target_y=[]\n"
   ]
  },
  {
   "cell_type": "code",
   "execution_count": 2,
   "id": "3db86ff9",
   "metadata": {},
   "outputs": [],
   "source": [
    "def on_Send_Goal_Button_Clicked(b):\n",
    "    client.wait_for_server()\n",
    "    goal = assignment_2_2023.msg.PlanningGoal()\n",
    "    goal.target_pose.pose.position.x = des_x.value\n",
    "    goal.target_pose.pose.position.y = des_y.value\n",
    "    setted_target_x.append(des_x.value)\n",
    "    setted_target_y.append(des_y.value)\n",
    "    #print(goal)\n",
    "    client.send_goal(goal)\n",
    "    "
   ]
  },
  {
   "cell_type": "code",
   "execution_count": 3,
   "id": "1e4ab686",
   "metadata": {},
   "outputs": [],
   "source": [
    "def on_Cancel_Button_Clicked(b):\n",
    "    last_positions_x.append(des_x.value)\n",
    "    last_positions_y.append(des_y.value)\n",
    "    \n",
    "    client.cancel_goal()\n",
    "\n"
   ]
  },
  {
   "cell_type": "code",
   "execution_count": 4,
   "id": "a18107ce",
   "metadata": {
    "scrolled": true
   },
   "outputs": [
    {
     "data": {
      "application/vnd.jupyter.widget-view+json": {
       "model_id": "24a5596b126a46d8a9d36f4d83440155",
       "version_major": 2,
       "version_minor": 0
      },
      "text/plain": [
       "BoundedFloatText(value=0.0, description='x position', max=9.0, min=-9.0)"
      ]
     },
     "metadata": {},
     "output_type": "display_data"
    },
    {
     "data": {
      "application/vnd.jupyter.widget-view+json": {
       "model_id": "bf4a5188072b46f6beed96a343b7668e",
       "version_major": 2,
       "version_minor": 0
      },
      "text/plain": [
       "BoundedFloatText(value=0.0, description='y position', max=9.0, min=-9.0)"
      ]
     },
     "metadata": {},
     "output_type": "display_data"
    },
    {
     "data": {
      "application/vnd.jupyter.widget-view+json": {
       "model_id": "d3b1446212dc4ec7b500b8fbcbf08796",
       "version_major": 2,
       "version_minor": 0
      },
      "text/plain": [
       "Button(description='Send Goal !', style=ButtonStyle())"
      ]
     },
     "metadata": {},
     "output_type": "display_data"
    },
    {
     "data": {
      "application/vnd.jupyter.widget-view+json": {
       "model_id": "a53a77961e744be78ab73229c7790947",
       "version_major": 2,
       "version_minor": 0
      },
      "text/plain": [
       "Button(description='Cancel Goal !', style=ButtonStyle())"
      ]
     },
     "metadata": {},
     "output_type": "display_data"
    }
   ],
   "source": [
    "\n",
    "des_x=widgets.BoundedFloatText(min=-9, max=9.0,description='x position')\n",
    "display(des_x)\n",
    "\n",
    "des_y=widgets.BoundedFloatText(min=-9, max=9.0, description='y position')\n",
    "display(des_y)\n",
    "rospy.init_node('action_client')\n",
    "client = actionlib.SimpleActionClient('/reaching_goal', assignment_2_2023.msg.PlanningAction)\n",
    "\n",
    "sendGoal = widgets.Button(description=\"Send Goal !\") \n",
    "cancelGoal=widgets.Button(description=\"Cancel Goal !\")\n",
    "sendGoal.on_click(on_Send_Goal_Button_Clicked)\n",
    "cancelGoal.on_click(on_Cancel_Button_Clicked)\n",
    "display(sendGoal)\n",
    "display(cancelGoal)\n",
    "\n",
    "\n",
    "\n"
   ]
  },
  {
   "cell_type": "code",
   "execution_count": 5,
   "id": "f4a1075f",
   "metadata": {},
   "outputs": [],
   "source": [
    "def clbk_odom(msg):\n",
    "# Callback function that process incoming Odometry messages,\n",
    "# extract informations about: position x, position y, linear velocity x and\n",
    "# angular velocity z; Save these informations in a custom message Info()\n",
    "# and pubblish that informations on /robot_pos_vel topic.\n",
    "\n",
    "# Initialize a new message\n",
    "# The struct of Info() is (x,y,vel_x,vel_z)\n",
    "    global pos_x,pos_y,vel_x,vel_z\n",
    "\n",
    "    pos_x = msg.pose.pose.position.x\n",
    "    pos_y = msg.pose.pose.position.y\n",
    "    vel_x = msg.twist.twist.linear.x \t\t# linear velocity along x axis\n",
    "    vel_z = msg.twist.twist.angular.z\t\t# angular velocity around z axis\n",
    "   \n",
    "    \n",
    "\n",
    "    \n",
    "    \n"
   ]
  },
  {
   "cell_type": "code",
   "execution_count": 6,
   "id": "1ff7062e",
   "metadata": {},
   "outputs": [
    {
     "ename": "NameError",
     "evalue": "name 'pos_x' is not defined",
     "output_type": "error",
     "traceback": [
      "\u001b[0;31m---------------------------------------------------------------------------\u001b[0m",
      "\u001b[0;31mNameError\u001b[0m                                 Traceback (most recent call last)",
      "\u001b[0;32m/tmp/ipykernel_9340/2495678981.py\u001b[0m in \u001b[0;36m<module>\u001b[0;34m\u001b[0m\n\u001b[1;32m      1\u001b[0m \u001b[0msub\u001b[0m \u001b[0;34m=\u001b[0m \u001b[0mrospy\u001b[0m\u001b[0;34m.\u001b[0m\u001b[0mSubscriber\u001b[0m\u001b[0;34m(\u001b[0m\u001b[0;34m'/odom'\u001b[0m\u001b[0;34m,\u001b[0m \u001b[0mOdometry\u001b[0m\u001b[0;34m,\u001b[0m \u001b[0mclbk_odom\u001b[0m\u001b[0;34m)\u001b[0m\u001b[0;34m\u001b[0m\u001b[0;34m\u001b[0m\u001b[0m\n\u001b[0;32m----> 2\u001b[0;31m \u001b[0mprint\u001b[0m\u001b[0;34m(\u001b[0m\u001b[0;34mf'pos_x:{pos_x} pos_y:{pos_y} vel_x:{vel_x}'\u001b[0m\u001b[0;34m)\u001b[0m\u001b[0;34m\u001b[0m\u001b[0;34m\u001b[0m\u001b[0m\n\u001b[0m\u001b[1;32m      3\u001b[0m \u001b[0;34m\u001b[0m\u001b[0m\n\u001b[1;32m      4\u001b[0m \u001b[0mstyle\u001b[0m \u001b[0;34m=\u001b[0m \u001b[0;34m{\u001b[0m\u001b[0;34m'description_width'\u001b[0m\u001b[0;34m:\u001b[0m \u001b[0;34m'initial'\u001b[0m\u001b[0;34m}\u001b[0m\u001b[0;34m\u001b[0m\u001b[0;34m\u001b[0m\u001b[0m\n\u001b[1;32m      5\u001b[0m current_x=widgets.Text(\n",
      "\u001b[0;31mNameError\u001b[0m: name 'pos_x' is not defined"
     ]
    }
   ],
   "source": [
    "\n",
    "sub = rospy.Subscriber('/odom', Odometry, clbk_odom)\n",
    "print(f'pos_x:{pos_x} pos_y:{pos_y} vel_x:{vel_x}')\n",
    "\n",
    "style = {'description_width': 'initial'}\n",
    "current_x=widgets.Text(\n",
    "              value=str(pos_x),\n",
    "              description=\"current position x\",\n",
    "              style=style\n",
    "         )\n",
    "current_y=widgets.Text(\n",
    "                    value=str(pos_y),\n",
    "                    description=\"current posizion y\",\n",
    "                    style=style\n",
    "        ) \n",
    "current_velx=widgets.Text(\n",
    "                  value=str(vel_x),\n",
    "                  description=\"current position x\",\n",
    "                  style=style    \n",
    "        )\n",
    "current_velz=widgets.Text(\n",
    "                    value=str(vel_z),\n",
    "                    description=\"current posizion y\",\n",
    "                    style=style\n",
    "        ) \n",
    "\n",
    "display(current_x)\n",
    "display(current_y)\n",
    "display(current_velx)\n",
    "display(current_velz)\n",
    "\n",
    "\n",
    "#last_positions_x\n",
    "x=widgets.Text(\n",
    "    value=str(setted_target_x),\n",
    "    description=\"last position x\"\n",
    "    )\n",
    "y=widgets.Text(\n",
    "    value=str(last_positions_y),\n",
    "    description=\"last posizion y\"\n",
    "    )\n",
    "display(x)\n",
    "display(y)\n",
    "\n"
   ]
  },
  {
   "cell_type": "code",
   "execution_count": 7,
   "id": "547e2fb8",
   "metadata": {},
   "outputs": [
    {
     "data": {
      "text/plain": [
       "[]"
      ]
     },
     "execution_count": 7,
     "metadata": {},
     "output_type": "execute_result"
    }
   ],
   "source": [
    "setted_target_x\n",
    "setted_target_y"
   ]
  },
  {
   "cell_type": "code",
   "execution_count": 8,
   "id": "906a86b4",
   "metadata": {},
   "outputs": [],
   "source": [
    "\n",
    "class Visualizer:\n",
    "    def __init__(self):\n",
    "        self.fig,self.ax=plt.subplots()\n",
    "        self.ln=plt.plot([],[],'ro')\n",
    "        self.x_data,self.y_data=[],[]\n",
    "    \n",
    "    def plot_init(self):\n",
    "        self.ax.set_xlim(-10,10)\n",
    "        self.ax.set_ylim(-10,10)\n",
    "        return self.ln,\n",
    "    \n",
    "    def clback_odom(self,msg):\n",
    "        #global pos_x,pos_y,vel_x,vel_z\n",
    "        self.x_data.append(msg.pose.pose.position.x)\n",
    "        self.y_data.append(msg.pose.pose.position.y)\n",
    "    \n",
    "    #vel_x = msg.twist.twist.linear.x \t\t# linear velocity along x axis\n",
    "    #vel_z = msg.twist.twist.angular.z\t\t# angular velocity around z axis\n",
    "   \n",
    "    def update_plot(self,frame):\n",
    "        plt.plot(self.x_data,self.y_data)\n",
    "        return self.ln,\n",
    "\n",
    "    \n",
    "            "
   ]
  },
  {
   "cell_type": "code",
   "execution_count": 10,
   "id": "673f4a0a",
   "metadata": {
    "scrolled": false
   },
   "outputs": [
    {
     "data": {
      "application/vnd.jupyter.widget-view+json": {
       "model_id": "2bd6b9fbb6714adda1ea986e7465c4a8",
       "version_major": 2,
       "version_minor": 0
      },
      "text/plain": [
       "Canvas(toolbar=Toolbar(toolitems=[('Home', 'Reset original view', 'home', 'home'), ('Back', 'Back to previous …"
      ]
     },
     "metadata": {},
     "output_type": "display_data"
    }
   ],
   "source": [
    "#rospy.init_node('Visualizer')\n",
    "\n",
    "vis=Visualizer()\n",
    "sub = rospy.Subscriber('/odom', Odometry, vis.clback_odom)\n",
    "ani=FuncAnimation(vis.fig,vis.update_plot,init_func=vis.plot_init,interval=50)\n",
    "plt.show(block=True)"
   ]
  },
  {
   "cell_type": "code",
   "execution_count": null,
   "id": "dff76737",
   "metadata": {},
   "outputs": [],
   "source": []
  }
 ],
 "metadata": {
  "kernelspec": {
   "display_name": "Python 3 (ipykernel)",
   "language": "python",
   "name": "python3"
  },
  "language_info": {
   "codemirror_mode": {
    "name": "ipython",
    "version": 3
   },
   "file_extension": ".py",
   "mimetype": "text/x-python",
   "name": "python",
   "nbconvert_exporter": "python",
   "pygments_lexer": "ipython3",
   "version": "3.8.5"
  }
 },
 "nbformat": 4,
 "nbformat_minor": 5
}
