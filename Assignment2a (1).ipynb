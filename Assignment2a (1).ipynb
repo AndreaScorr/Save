{
 "cells": [
  {
   "cell_type": "code",
   "execution_count": 1,
   "id": "ce9fcd49",
   "metadata": {
    "ExecuteTime": {
     "end_time": "2024-04-18T07:20:55.180883Z",
     "start_time": "2024-04-18T07:20:54.854587Z"
    }
   },
   "outputs": [],
   "source": [
    "\n",
    "%matplotlib widget\n",
    "import rospy\n",
    "import ipywidgets as widgets\n",
    "import actionlib\n",
    "import actionlib.msg\n",
    "import assignment_2_2023.msg\n",
    "import matplotlib.pyplot as plt\n",
    "#%matplotlib inline\n",
    "import numpy as np\n",
    "\n",
    "\n",
    "from assignment_2_2023.srv import LastTarget, LastTargetRequest\n",
    "from nav_msgs.msg import Odometry\n",
    "from ipywidgets import Layout\n",
    "from matplotlib.animation import FuncAnimation\n",
    "\n",
    "\n",
    "last_positions_x=[]\n",
    "last_positions_y=[]\n",
    "\n",
    "setted_target_x=[]\n",
    "setted_target_y=[]\n",
    "\n",
    "pos_x=0\n",
    "pos_y=0\n",
    "vel_x=0\n",
    "vel_z=0"
   ]
  },
  {
   "cell_type": "code",
   "execution_count": 2,
   "id": "3db86ff9",
   "metadata": {
    "ExecuteTime": {
     "end_time": "2024-04-18T07:20:55.187687Z",
     "start_time": "2024-04-18T07:20:55.183044Z"
    }
   },
   "outputs": [],
   "source": [
    "def on_Send_Goal_Button_Clicked(b):\n",
    "    client.wait_for_server()\n",
    "    goal = assignment_2_2023.msg.PlanningGoal()\n",
    "    goal.target_pose.pose.position.x = des_x.value\n",
    "    goal.target_pose.pose.position.y = des_y.value\n",
    "    setted_target_x.append(des_x.value)\n",
    "    setted_target_y.append(des_y.value)\n",
    "    print(goal)\n",
    "    client.send_goal(goal)\n",
    "    "
   ]
  },
  {
   "cell_type": "code",
   "execution_count": 3,
   "id": "1e4ab686",
   "metadata": {
    "ExecuteTime": {
     "end_time": "2024-04-18T07:20:55.198100Z",
     "start_time": "2024-04-18T07:20:55.189098Z"
    }
   },
   "outputs": [],
   "source": [
    "def on_Cancel_Button_Clicked(b):\n",
    "    last_positions_x.append(des_x.value)\n",
    "    last_positions_y.append(des_y.value)\n",
    "    \n",
    "    client.cancel_goal()\n",
    "\n"
   ]
  },
  {
   "cell_type": "code",
   "execution_count": 4,
   "id": "a18107ce",
   "metadata": {
    "ExecuteTime": {
     "end_time": "2024-04-18T07:20:55.310446Z",
     "start_time": "2024-04-18T07:20:55.200169Z"
    },
    "scrolled": true
   },
   "outputs": [
    {
     "data": {
      "application/vnd.jupyter.widget-view+json": {
       "model_id": "903300a536c544c897ce2c81a64bc13f",
       "version_major": 2,
       "version_minor": 0
      },
      "text/plain": [
       "BoundedFloatText(value=0.0, description='x position', max=9.0, min=-9.0)"
      ]
     },
     "metadata": {},
     "output_type": "display_data"
    },
    {
     "data": {
      "application/vnd.jupyter.widget-view+json": {
       "model_id": "b6a9b6fd3fc74ad9a263499109d8bda3",
       "version_major": 2,
       "version_minor": 0
      },
      "text/plain": [
       "BoundedFloatText(value=0.0, description='y position', max=9.0, min=-9.0)"
      ]
     },
     "metadata": {},
     "output_type": "display_data"
    },
    {
     "data": {
      "application/vnd.jupyter.widget-view+json": {
       "model_id": "5787b7b38a684848a7914d47fc0fc57d",
       "version_major": 2,
       "version_minor": 0
      },
      "text/plain": [
       "Button(description='Send Goal !', style=ButtonStyle())"
      ]
     },
     "metadata": {},
     "output_type": "display_data"
    },
    {
     "data": {
      "application/vnd.jupyter.widget-view+json": {
       "model_id": "5ee5cdfe23d948cf996b9cb875b06f66",
       "version_major": 2,
       "version_minor": 0
      },
      "text/plain": [
       "Button(description='Cancel Goal !', style=ButtonStyle())"
      ]
     },
     "metadata": {},
     "output_type": "display_data"
    },
    {
     "name": "stdout",
     "output_type": "stream",
     "text": [
      "target_pose: \n",
      "  header: \n",
      "    seq: 0\n",
      "    stamp: \n",
      "      secs: 0\n",
      "      nsecs:         0\n",
      "    frame_id: ''\n",
      "  pose: \n",
      "    position: \n",
      "      x: 4.0\n",
      "      y: 2.0\n",
      "      z: 0.0\n",
      "    orientation: \n",
      "      x: 0.0\n",
      "      y: 0.0\n",
      "      z: 0.0\n",
      "      w: 0.0\n",
      "target_pose: \n",
      "  header: \n",
      "    seq: 0\n",
      "    stamp: \n",
      "      secs: 0\n",
      "      nsecs:         0\n",
      "    frame_id: ''\n",
      "  pose: \n",
      "    position: \n",
      "      x: 6.0\n",
      "      y: 5.0\n",
      "      z: 0.0\n",
      "    orientation: \n",
      "      x: 0.0\n",
      "      y: 0.0\n",
      "      z: 0.0\n",
      "      w: 0.0\n"
     ]
    }
   ],
   "source": [
    "\n",
    "des_x=widgets.BoundedFloatText(min=-9, max=9.0,description='x position')\n",
    "display(des_x)\n",
    "\n",
    "des_y=widgets.BoundedFloatText(min=-9, max=9.0, description='y position')\n",
    "display(des_y)\n",
    "rospy.init_node('action_client')\n",
    "client = actionlib.SimpleActionClient('/reaching_goal', assignment_2_2023.msg.PlanningAction)\n",
    "\n",
    "sendGoal = widgets.Button(description=\"Send Goal !\") \n",
    "cancelGoal=widgets.Button(description=\"Cancel Goal !\")\n",
    "sendGoal.on_click(on_Send_Goal_Button_Clicked)\n",
    "cancelGoal.on_click(on_Cancel_Button_Clicked)\n",
    "display(sendGoal)\n",
    "display(cancelGoal)\n",
    "\n",
    "\n",
    "\n"
   ]
  },
  {
   "cell_type": "code",
   "execution_count": 5,
   "id": "f4a1075f",
   "metadata": {
    "ExecuteTime": {
     "end_time": "2024-04-18T07:20:55.315972Z",
     "start_time": "2024-04-18T07:20:55.311933Z"
    }
   },
   "outputs": [],
   "source": [
    "def clbk_odom(msg):\n",
    "# Callback function that process incoming Odometry messages,\n",
    "# extract informations about: position x, position y, linear velocity x and\n",
    "# angular velocity z; Save these informations in a custom message Info()\n",
    "# and pubblish that informations on /robot_pos_vel topic.\n",
    "\n",
    "# Initialize a new message\n",
    "# The struct of Info() is (x,y,vel_x,vel_z)\n",
    "    global pos_x,pos_y,vel_x,vel_z\n",
    "\n",
    "    pos_x = msg.pose.pose.position.x\n",
    "    pos_y = msg.pose.pose.position.y\n",
    "    vel_x = msg.twist.twist.linear.x \t\t# linear velocity along x axis\n",
    "    vel_z = msg.twist.twist.angular.z\t\t# angular velocity around z axis\n",
    "   \n",
    "    \n",
    "\n",
    "    \n",
    "    \n"
   ]
  },
  {
   "cell_type": "code",
   "execution_count": 6,
   "id": "1ff7062e",
   "metadata": {
    "ExecuteTime": {
     "end_time": "2024-04-18T07:20:55.358029Z",
     "start_time": "2024-04-18T07:20:55.317227Z"
    }
   },
   "outputs": [
    {
     "name": "stdout",
     "output_type": "stream",
     "text": [
      "pos_x:0 pos_y:0 vel_x:0\n"
     ]
    },
    {
     "data": {
      "application/vnd.jupyter.widget-view+json": {
       "model_id": "95fa25e3391c41298c8bc4b8319fe0f3",
       "version_major": 2,
       "version_minor": 0
      },
      "text/plain": [
       "Text(value='0', description='current position x', style=DescriptionStyle(description_width='initial'))"
      ]
     },
     "metadata": {},
     "output_type": "display_data"
    },
    {
     "data": {
      "application/vnd.jupyter.widget-view+json": {
       "model_id": "d7573248712a449faae73f8ed4f7b9d2",
       "version_major": 2,
       "version_minor": 0
      },
      "text/plain": [
       "Text(value='0', description='current posizion y', style=DescriptionStyle(description_width='initial'))"
      ]
     },
     "metadata": {},
     "output_type": "display_data"
    },
    {
     "data": {
      "application/vnd.jupyter.widget-view+json": {
       "model_id": "580c0677afc042a48a641db3037546b1",
       "version_major": 2,
       "version_minor": 0
      },
      "text/plain": [
       "Text(value='0', description='current position x', style=DescriptionStyle(description_width='initial'))"
      ]
     },
     "metadata": {},
     "output_type": "display_data"
    },
    {
     "data": {
      "application/vnd.jupyter.widget-view+json": {
       "model_id": "70beca96432f45c29913072628ed6654",
       "version_major": 2,
       "version_minor": 0
      },
      "text/plain": [
       "Text(value='0', description='current posizion y', style=DescriptionStyle(description_width='initial'))"
      ]
     },
     "metadata": {},
     "output_type": "display_data"
    },
    {
     "data": {
      "application/vnd.jupyter.widget-view+json": {
       "model_id": "01671a4547224bd2be421e843726f6a1",
       "version_major": 2,
       "version_minor": 0
      },
      "text/plain": [
       "Text(value='[]', description='last position x')"
      ]
     },
     "metadata": {},
     "output_type": "display_data"
    },
    {
     "data": {
      "application/vnd.jupyter.widget-view+json": {
       "model_id": "bd944e4915c149419425b7c457a7e61f",
       "version_major": 2,
       "version_minor": 0
      },
      "text/plain": [
       "Text(value='[]', description='last posizion y')"
      ]
     },
     "metadata": {},
     "output_type": "display_data"
    }
   ],
   "source": [
    "\n",
    "sub = rospy.Subscriber('/odom', Odometry, clbk_odom)\n",
    "print(f'pos_x:{pos_x} pos_y:{pos_y} vel_x:{vel_x}')\n",
    "\n",
    "style = {'description_width': 'initial'}\n",
    "current_x=widgets.Text(\n",
    "              value=str(pos_x),\n",
    "              description=\"current position x\",\n",
    "              style=style\n",
    "         )\n",
    "current_y=widgets.Text(\n",
    "                    value=str(pos_y),\n",
    "                    description=\"current posizion y\",\n",
    "                    style=style\n",
    "        ) \n",
    "current_velx=widgets.Text(\n",
    "                  value=str(vel_x),\n",
    "                  description=\"current position x\",\n",
    "                  style=style    \n",
    "        )\n",
    "current_velz=widgets.Text(\n",
    "                    value=str(vel_z),\n",
    "                    description=\"current posizion y\",\n",
    "                    style=style\n",
    "        ) \n",
    "\n",
    "display(current_x)\n",
    "display(current_y)\n",
    "display(current_velx)\n",
    "display(current_velz)\n",
    "\n",
    "\n",
    "#last_positions_x\n",
    "x=widgets.Text(\n",
    "    value=str(setted_target_x),\n",
    "    description=\"last position x\"\n",
    "    )\n",
    "y=widgets.Text(\n",
    "    value=str(last_positions_y),\n",
    "    description=\"last posizion y\"\n",
    "    )\n",
    "display(x)\n",
    "display(y)\n",
    "\n"
   ]
  },
  {
   "cell_type": "code",
   "execution_count": 7,
   "id": "547e2fb8",
   "metadata": {
    "ExecuteTime": {
     "end_time": "2024-04-18T07:20:55.364196Z",
     "start_time": "2024-04-18T07:20:55.359111Z"
    }
   },
   "outputs": [
    {
     "data": {
      "text/plain": [
       "[]"
      ]
     },
     "execution_count": 7,
     "metadata": {},
     "output_type": "execute_result"
    }
   ],
   "source": [
    "setted_target_x\n",
    "setted_target_y"
   ]
  },
  {
   "cell_type": "code",
   "execution_count": 8,
   "id": "906a86b4",
   "metadata": {
    "ExecuteTime": {
     "end_time": "2024-04-18T07:20:55.375614Z",
     "start_time": "2024-04-18T07:20:55.365864Z"
    }
   },
   "outputs": [],
   "source": [
    "\n",
    "class Visualizer:\n",
    "    def __init__(self):\n",
    "        self.fig,self.ax=plt.subplots()\n",
    "        self.ln=plt.plot([],[],'ro')\n",
    "        self.x_data,self.y_data=[],[]\n",
    "    \n",
    "    def plot_init(self):\n",
    "        self.ax.set_xlim(-10,10)\n",
    "        self.ax.set_ylim(-10,10)\n",
    "        return self.ln,\n",
    "    \n",
    "    #def clback_odom(self,msg):\n",
    "        #global pos_x,pos_y,vel_x,vel_z\n",
    "       # self.x_data.append(msg.pose.pose.position.x)\n",
    "       # self.y_data.append(msg.pose.pose.position.y)\n",
    "    \n",
    "    #vel_x = msg.twist.twist.linear.x \t\t# linear velocity along x axis\n",
    "    #vel_z = msg.twist.twist.angular.z\t\t# angular velocity around z axis\n",
    "   \n",
    "    def update_plot(self, frame):\n",
    "        self.x_data.append(pos_x)\n",
    "        self.y_data.append(pos_y)\n",
    "        plt.plot(self.x_data,self.y_data)\n",
    "        return self.ln,\n",
    "\n",
    "    \n",
    "            "
   ]
  },
  {
   "cell_type": "code",
   "execution_count": 9,
   "id": "673f4a0a",
   "metadata": {
    "ExecuteTime": {
     "end_time": "2024-04-18T07:20:55.407777Z",
     "start_time": "2024-04-18T07:20:55.377418Z"
    },
    "scrolled": false
   },
   "outputs": [
    {
     "data": {
      "application/vnd.jupyter.widget-view+json": {
       "model_id": "ebe44c81c8544987956e103a74c343ea",
       "version_major": 2,
       "version_minor": 0
      },
      "text/plain": [
       "Canvas(toolbar=Toolbar(toolitems=[('Home', 'Reset original view', 'home', 'home'), ('Back', 'Back to previous \u2026"
      ]
     },
     "metadata": {},
     "output_type": "display_data"
    }
   ],
   "source": [
    "#rospy.init_node('Visualizer')\n",
    "\n",
    "vis=Visualizer()\n",
    "#sub = rospy.Subscriber('/odom', Odometry, vis.clback_odom)\n",
    "ani=FuncAnimation(vis.fig,vis.update_plot,init_func=vis.plot_init,interval=50)\n",
    "plt.show(block=True)"
   ]
  },
  {
   "cell_type": "code",
   "execution_count": null,
   "id": "dff76737",
   "metadata": {},
   "outputs": [],
   "source": []
  }
 ],
 "metadata": {
  "hide_input": false,
  "kernelspec": {
   "display_name": "Python 3 (ipykernel)",
   "language": "python",
   "name": "python3"
  },
  "language_info": {
   "codemirror_mode": {
    "name": "ipython",
    "version": 3
   },
   "file_extension": ".py",
   "mimetype": "text/x-python",
   "name": "python",
   "nbconvert_exporter": "python",
   "pygments_lexer": "ipython3",
   "version": "3.8.5"
  },
  "toc": {
   "base_numbering": 1,
   "nav_menu": {},
   "number_sections": true,
   "sideBar": true,
   "skip_h1_title": false,
   "title_cell": "Table of Contents",
   "title_sidebar": "Contents",
   "toc_cell": false,
   "toc_position": {},
   "toc_section_display": true,
   "toc_window_display": false
  },
  "varInspector": {
   "cols": {
    "lenName": 16,
    "lenType": 16,
    "lenVar": 40
   },
   "kernels_config": {
    "python": {
     "delete_cmd_postfix": "",
     "delete_cmd_prefix": "del ",
     "library": "var_list.py",
     "varRefreshCmd": "print(var_dic_list())"
    },
    "r": {
     "delete_cmd_postfix": ") ",
     "delete_cmd_prefix": "rm(",
     "library": "var_list.r",
     "varRefreshCmd": "cat(var_dic_list()) "
    }
   },
   "types_to_exclude": [
    "module",
    "function",
    "builtin_function_or_method",
    "instance",
    "_Feature"
   ],
   "window_display": false
  }
 },
 "nbformat": 4,
 "nbformat_minor": 5
}